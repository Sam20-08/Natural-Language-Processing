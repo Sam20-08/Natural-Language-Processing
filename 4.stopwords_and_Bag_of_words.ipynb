{
  "nbformat": 4,
  "nbformat_minor": 0,
  "metadata": {
    "colab": {
      "provenance": []
    },
    "kernelspec": {
      "name": "python3",
      "display_name": "Python 3"
    },
    "language_info": {
      "name": "python"
    }
  },
  "cells": [
    {
      "cell_type": "code",
      "execution_count": 1,
      "metadata": {
        "id": "Cx2Wqhr2RO-F"
      },
      "outputs": [],
      "source": [
        "paragraph = \"\"\"I have three visions for India. In 3000 years of our history, people from all over\n",
        "               the world have come and invaded us, captured our lands, conquered our minds.\n",
        "               From Alexander onwards, the Greeks, the Turks, the Moguls, the Portuguese, the British,\n",
        "               the French, the Dutch, all of them came and looted us, took over what was ours.\n",
        "               Yet we have not done this to any other nation. We have not conquered anyone.\n",
        "               We have not grabbed their land, their culture,\n",
        "               their history and tried to enforce our way of life on them.\n",
        "               Why? Because we respect the freedom of others.That is why my\n",
        "               first vision is that of freedom. I believe that India got its first vision of\n",
        "               this in 1857, when we started the War of Independence. It is this freedom that\n",
        "               we must protect and nurture and build on. If we are not free, no one will respect us.\n",
        "               My second vision for India’s development. For fifty years we have been a developing nation.\n",
        "               It is time we see ourselves as a developed nation. We are among the top 5 nations of the world\n",
        "               in terms of GDP. We have a 10 percent growth rate in most areas. Our poverty levels are falling.\n",
        "               Our achievements are being globally recognised today. Yet we lack the self-confidence to\n",
        "               see ourselves as a developed nation, self-reliant and self-assured. Isn’t this incorrect?\n",
        "               I have a third vision. India must stand up to the world. Because I believe that unless India\n",
        "               stands up to the world, no one will respect us. Only strength respects strength. We must be\n",
        "               strong not only as a military power but also as an economic power. Both must go hand-in-hand.\n",
        "               My good fortune was to have worked with three great minds. Dr. Vikram Sarabhai of the Dept. of\n",
        "               space, Professor Satish Dhawan, who succeeded him and Dr. Brahm Prakash, father of nuclear material.\n",
        "               I was lucky to have worked with all three of them closely and consider this the great opportunity of my life.\n",
        "               I see four milestones in my career\"\"\""
      ]
    },
    {
      "cell_type": "code",
      "source": [
        "from nltk.stem import PorterStemmer"
      ],
      "metadata": {
        "id": "Ogvd74o1VRaI"
      },
      "execution_count": 2,
      "outputs": []
    },
    {
      "cell_type": "code",
      "source": [
        "from nltk.corpus import stopwords"
      ],
      "metadata": {
        "id": "6cZuaMvgWgpl"
      },
      "execution_count": 3,
      "outputs": []
    },
    {
      "cell_type": "code",
      "source": [
        "import nltk\n",
        "nltk.download('stopwords')"
      ],
      "metadata": {
        "colab": {
          "base_uri": "https://localhost:8080/"
        },
        "id": "knfDPwzvWim9",
        "outputId": "de33b268-6586-4e2e-97b5-2f94fefd8dd3"
      },
      "execution_count": 4,
      "outputs": [
        {
          "output_type": "stream",
          "name": "stderr",
          "text": [
            "[nltk_data] Downloading package stopwords to /root/nltk_data...\n",
            "[nltk_data]   Unzipping corpora/stopwords.zip.\n"
          ]
        },
        {
          "output_type": "execute_result",
          "data": {
            "text/plain": [
              "True"
            ]
          },
          "metadata": {},
          "execution_count": 4
        }
      ]
    },
    {
      "cell_type": "code",
      "source": [
        "import nltk\n",
        "nltk.download('wordnet')"
      ],
      "metadata": {
        "colab": {
          "base_uri": "https://localhost:8080/"
        },
        "id": "6vgVX-YOxaxE",
        "outputId": "684e51ad-bfc3-42d8-e521-c8c9acad4792"
      },
      "execution_count": 5,
      "outputs": [
        {
          "output_type": "stream",
          "name": "stderr",
          "text": [
            "[nltk_data] Downloading package wordnet to /root/nltk_data...\n"
          ]
        },
        {
          "output_type": "execute_result",
          "data": {
            "text/plain": [
              "True"
            ]
          },
          "metadata": {},
          "execution_count": 5
        }
      ]
    },
    {
      "cell_type": "code",
      "source": [
        "stopwords.words('english')"
      ],
      "metadata": {
        "colab": {
          "base_uri": "https://localhost:8080/"
        },
        "id": "gKt9KM6mW38R",
        "outputId": "a8391931-0a5b-4e4e-a24c-a167496db12a"
      },
      "execution_count": 6,
      "outputs": [
        {
          "output_type": "execute_result",
          "data": {
            "text/plain": [
              "['i',\n",
              " 'me',\n",
              " 'my',\n",
              " 'myself',\n",
              " 'we',\n",
              " 'our',\n",
              " 'ours',\n",
              " 'ourselves',\n",
              " 'you',\n",
              " \"you're\",\n",
              " \"you've\",\n",
              " \"you'll\",\n",
              " \"you'd\",\n",
              " 'your',\n",
              " 'yours',\n",
              " 'yourself',\n",
              " 'yourselves',\n",
              " 'he',\n",
              " 'him',\n",
              " 'his',\n",
              " 'himself',\n",
              " 'she',\n",
              " \"she's\",\n",
              " 'her',\n",
              " 'hers',\n",
              " 'herself',\n",
              " 'it',\n",
              " \"it's\",\n",
              " 'its',\n",
              " 'itself',\n",
              " 'they',\n",
              " 'them',\n",
              " 'their',\n",
              " 'theirs',\n",
              " 'themselves',\n",
              " 'what',\n",
              " 'which',\n",
              " 'who',\n",
              " 'whom',\n",
              " 'this',\n",
              " 'that',\n",
              " \"that'll\",\n",
              " 'these',\n",
              " 'those',\n",
              " 'am',\n",
              " 'is',\n",
              " 'are',\n",
              " 'was',\n",
              " 'were',\n",
              " 'be',\n",
              " 'been',\n",
              " 'being',\n",
              " 'have',\n",
              " 'has',\n",
              " 'had',\n",
              " 'having',\n",
              " 'do',\n",
              " 'does',\n",
              " 'did',\n",
              " 'doing',\n",
              " 'a',\n",
              " 'an',\n",
              " 'the',\n",
              " 'and',\n",
              " 'but',\n",
              " 'if',\n",
              " 'or',\n",
              " 'because',\n",
              " 'as',\n",
              " 'until',\n",
              " 'while',\n",
              " 'of',\n",
              " 'at',\n",
              " 'by',\n",
              " 'for',\n",
              " 'with',\n",
              " 'about',\n",
              " 'against',\n",
              " 'between',\n",
              " 'into',\n",
              " 'through',\n",
              " 'during',\n",
              " 'before',\n",
              " 'after',\n",
              " 'above',\n",
              " 'below',\n",
              " 'to',\n",
              " 'from',\n",
              " 'up',\n",
              " 'down',\n",
              " 'in',\n",
              " 'out',\n",
              " 'on',\n",
              " 'off',\n",
              " 'over',\n",
              " 'under',\n",
              " 'again',\n",
              " 'further',\n",
              " 'then',\n",
              " 'once',\n",
              " 'here',\n",
              " 'there',\n",
              " 'when',\n",
              " 'where',\n",
              " 'why',\n",
              " 'how',\n",
              " 'all',\n",
              " 'any',\n",
              " 'both',\n",
              " 'each',\n",
              " 'few',\n",
              " 'more',\n",
              " 'most',\n",
              " 'other',\n",
              " 'some',\n",
              " 'such',\n",
              " 'no',\n",
              " 'nor',\n",
              " 'not',\n",
              " 'only',\n",
              " 'own',\n",
              " 'same',\n",
              " 'so',\n",
              " 'than',\n",
              " 'too',\n",
              " 'very',\n",
              " 's',\n",
              " 't',\n",
              " 'can',\n",
              " 'will',\n",
              " 'just',\n",
              " 'don',\n",
              " \"don't\",\n",
              " 'should',\n",
              " \"should've\",\n",
              " 'now',\n",
              " 'd',\n",
              " 'll',\n",
              " 'm',\n",
              " 'o',\n",
              " 're',\n",
              " 've',\n",
              " 'y',\n",
              " 'ain',\n",
              " 'aren',\n",
              " \"aren't\",\n",
              " 'couldn',\n",
              " \"couldn't\",\n",
              " 'didn',\n",
              " \"didn't\",\n",
              " 'doesn',\n",
              " \"doesn't\",\n",
              " 'hadn',\n",
              " \"hadn't\",\n",
              " 'hasn',\n",
              " \"hasn't\",\n",
              " 'haven',\n",
              " \"haven't\",\n",
              " 'isn',\n",
              " \"isn't\",\n",
              " 'ma',\n",
              " 'mightn',\n",
              " \"mightn't\",\n",
              " 'mustn',\n",
              " \"mustn't\",\n",
              " 'needn',\n",
              " \"needn't\",\n",
              " 'shan',\n",
              " \"shan't\",\n",
              " 'shouldn',\n",
              " \"shouldn't\",\n",
              " 'wasn',\n",
              " \"wasn't\",\n",
              " 'weren',\n",
              " \"weren't\",\n",
              " 'won',\n",
              " \"won't\",\n",
              " 'wouldn',\n",
              " \"wouldn't\"]"
            ]
          },
          "metadata": {},
          "execution_count": 6
        }
      ]
    },
    {
      "cell_type": "code",
      "source": [
        "stopwords.words('german')"
      ],
      "metadata": {
        "colab": {
          "base_uri": "https://localhost:8080/"
        },
        "id": "6CRHzCOVXH84",
        "outputId": "67f1ba9e-1fad-4d89-bbf0-da9a43105903"
      },
      "execution_count": 7,
      "outputs": [
        {
          "output_type": "execute_result",
          "data": {
            "text/plain": [
              "['aber',\n",
              " 'alle',\n",
              " 'allem',\n",
              " 'allen',\n",
              " 'aller',\n",
              " 'alles',\n",
              " 'als',\n",
              " 'also',\n",
              " 'am',\n",
              " 'an',\n",
              " 'ander',\n",
              " 'andere',\n",
              " 'anderem',\n",
              " 'anderen',\n",
              " 'anderer',\n",
              " 'anderes',\n",
              " 'anderm',\n",
              " 'andern',\n",
              " 'anderr',\n",
              " 'anders',\n",
              " 'auch',\n",
              " 'auf',\n",
              " 'aus',\n",
              " 'bei',\n",
              " 'bin',\n",
              " 'bis',\n",
              " 'bist',\n",
              " 'da',\n",
              " 'damit',\n",
              " 'dann',\n",
              " 'der',\n",
              " 'den',\n",
              " 'des',\n",
              " 'dem',\n",
              " 'die',\n",
              " 'das',\n",
              " 'dass',\n",
              " 'daß',\n",
              " 'derselbe',\n",
              " 'derselben',\n",
              " 'denselben',\n",
              " 'desselben',\n",
              " 'demselben',\n",
              " 'dieselbe',\n",
              " 'dieselben',\n",
              " 'dasselbe',\n",
              " 'dazu',\n",
              " 'dein',\n",
              " 'deine',\n",
              " 'deinem',\n",
              " 'deinen',\n",
              " 'deiner',\n",
              " 'deines',\n",
              " 'denn',\n",
              " 'derer',\n",
              " 'dessen',\n",
              " 'dich',\n",
              " 'dir',\n",
              " 'du',\n",
              " 'dies',\n",
              " 'diese',\n",
              " 'diesem',\n",
              " 'diesen',\n",
              " 'dieser',\n",
              " 'dieses',\n",
              " 'doch',\n",
              " 'dort',\n",
              " 'durch',\n",
              " 'ein',\n",
              " 'eine',\n",
              " 'einem',\n",
              " 'einen',\n",
              " 'einer',\n",
              " 'eines',\n",
              " 'einig',\n",
              " 'einige',\n",
              " 'einigem',\n",
              " 'einigen',\n",
              " 'einiger',\n",
              " 'einiges',\n",
              " 'einmal',\n",
              " 'er',\n",
              " 'ihn',\n",
              " 'ihm',\n",
              " 'es',\n",
              " 'etwas',\n",
              " 'euer',\n",
              " 'eure',\n",
              " 'eurem',\n",
              " 'euren',\n",
              " 'eurer',\n",
              " 'eures',\n",
              " 'für',\n",
              " 'gegen',\n",
              " 'gewesen',\n",
              " 'hab',\n",
              " 'habe',\n",
              " 'haben',\n",
              " 'hat',\n",
              " 'hatte',\n",
              " 'hatten',\n",
              " 'hier',\n",
              " 'hin',\n",
              " 'hinter',\n",
              " 'ich',\n",
              " 'mich',\n",
              " 'mir',\n",
              " 'ihr',\n",
              " 'ihre',\n",
              " 'ihrem',\n",
              " 'ihren',\n",
              " 'ihrer',\n",
              " 'ihres',\n",
              " 'euch',\n",
              " 'im',\n",
              " 'in',\n",
              " 'indem',\n",
              " 'ins',\n",
              " 'ist',\n",
              " 'jede',\n",
              " 'jedem',\n",
              " 'jeden',\n",
              " 'jeder',\n",
              " 'jedes',\n",
              " 'jene',\n",
              " 'jenem',\n",
              " 'jenen',\n",
              " 'jener',\n",
              " 'jenes',\n",
              " 'jetzt',\n",
              " 'kann',\n",
              " 'kein',\n",
              " 'keine',\n",
              " 'keinem',\n",
              " 'keinen',\n",
              " 'keiner',\n",
              " 'keines',\n",
              " 'können',\n",
              " 'könnte',\n",
              " 'machen',\n",
              " 'man',\n",
              " 'manche',\n",
              " 'manchem',\n",
              " 'manchen',\n",
              " 'mancher',\n",
              " 'manches',\n",
              " 'mein',\n",
              " 'meine',\n",
              " 'meinem',\n",
              " 'meinen',\n",
              " 'meiner',\n",
              " 'meines',\n",
              " 'mit',\n",
              " 'muss',\n",
              " 'musste',\n",
              " 'nach',\n",
              " 'nicht',\n",
              " 'nichts',\n",
              " 'noch',\n",
              " 'nun',\n",
              " 'nur',\n",
              " 'ob',\n",
              " 'oder',\n",
              " 'ohne',\n",
              " 'sehr',\n",
              " 'sein',\n",
              " 'seine',\n",
              " 'seinem',\n",
              " 'seinen',\n",
              " 'seiner',\n",
              " 'seines',\n",
              " 'selbst',\n",
              " 'sich',\n",
              " 'sie',\n",
              " 'ihnen',\n",
              " 'sind',\n",
              " 'so',\n",
              " 'solche',\n",
              " 'solchem',\n",
              " 'solchen',\n",
              " 'solcher',\n",
              " 'solches',\n",
              " 'soll',\n",
              " 'sollte',\n",
              " 'sondern',\n",
              " 'sonst',\n",
              " 'über',\n",
              " 'um',\n",
              " 'und',\n",
              " 'uns',\n",
              " 'unsere',\n",
              " 'unserem',\n",
              " 'unseren',\n",
              " 'unser',\n",
              " 'unseres',\n",
              " 'unter',\n",
              " 'viel',\n",
              " 'vom',\n",
              " 'von',\n",
              " 'vor',\n",
              " 'während',\n",
              " 'war',\n",
              " 'waren',\n",
              " 'warst',\n",
              " 'was',\n",
              " 'weg',\n",
              " 'weil',\n",
              " 'weiter',\n",
              " 'welche',\n",
              " 'welchem',\n",
              " 'welchen',\n",
              " 'welcher',\n",
              " 'welches',\n",
              " 'wenn',\n",
              " 'werde',\n",
              " 'werden',\n",
              " 'wie',\n",
              " 'wieder',\n",
              " 'will',\n",
              " 'wir',\n",
              " 'wird',\n",
              " 'wirst',\n",
              " 'wo',\n",
              " 'wollen',\n",
              " 'wollte',\n",
              " 'würde',\n",
              " 'würden',\n",
              " 'zu',\n",
              " 'zum',\n",
              " 'zur',\n",
              " 'zwar',\n",
              " 'zwischen']"
            ]
          },
          "metadata": {},
          "execution_count": 7
        }
      ]
    },
    {
      "cell_type": "code",
      "source": [
        "from nltk.stem import PorterStemmer"
      ],
      "metadata": {
        "id": "qfwg7D5oZbPn"
      },
      "execution_count": 8,
      "outputs": []
    },
    {
      "cell_type": "code",
      "source": [
        "import nltk\n",
        "nltk.download('punkt')"
      ],
      "metadata": {
        "colab": {
          "base_uri": "https://localhost:8080/"
        },
        "id": "q01dd2oqaJLq",
        "outputId": "e3ebe5a9-040e-49e2-98c5-c3a1c828e4d2"
      },
      "execution_count": 9,
      "outputs": [
        {
          "output_type": "stream",
          "name": "stderr",
          "text": [
            "[nltk_data] Downloading package punkt to /root/nltk_data...\n",
            "[nltk_data]   Unzipping tokenizers/punkt.zip.\n"
          ]
        },
        {
          "output_type": "execute_result",
          "data": {
            "text/plain": [
              "True"
            ]
          },
          "metadata": {},
          "execution_count": 9
        }
      ]
    },
    {
      "cell_type": "code",
      "source": [
        "stemmer=PorterStemmer()"
      ],
      "metadata": {
        "id": "I4wrvqEsZ8Hm"
      },
      "execution_count": 10,
      "outputs": []
    },
    {
      "cell_type": "code",
      "source": [
        "sentence=nltk.sent_tokenize(paragraph)"
      ],
      "metadata": {
        "id": "OtlUE76JZ_nr"
      },
      "execution_count": 11,
      "outputs": []
    },
    {
      "cell_type": "code",
      "source": [
        "sentence"
      ],
      "metadata": {
        "colab": {
          "base_uri": "https://localhost:8080/"
        },
        "id": "UhChvthLv9OV",
        "outputId": "7940acf9-e799-4202-ddda-63aefaa8143f"
      },
      "execution_count": 12,
      "outputs": [
        {
          "output_type": "execute_result",
          "data": {
            "text/plain": [
              "['I have three visions for India.',\n",
              " 'In 3000 years of our history, people from all over\\n               the world have come and invaded us, captured our lands, conquered our minds.',\n",
              " 'From Alexander onwards, the Greeks, the Turks, the Moguls, the Portuguese, the British,\\n               the French, the Dutch, all of them came and looted us, took over what was ours.',\n",
              " 'Yet we have not done this to any other nation.',\n",
              " 'We have not conquered anyone.',\n",
              " 'We have not grabbed their land, their culture,\\n               their history and tried to enforce our way of life on them.',\n",
              " 'Why?',\n",
              " 'Because we respect the freedom of others.That is why my\\n               first vision is that of freedom.',\n",
              " 'I believe that India got its first vision of\\n               this in 1857, when we started the War of Independence.',\n",
              " 'It is this freedom that\\n               we must protect and nurture and build on.',\n",
              " 'If we are not free, no one will respect us.',\n",
              " 'My second vision for India’s development.',\n",
              " 'For fifty years we have been a developing nation.',\n",
              " 'It is time we see ourselves as a developed nation.',\n",
              " 'We are among the top 5 nations of the world\\n               in terms of GDP.',\n",
              " 'We have a 10 percent growth rate in most areas.',\n",
              " 'Our poverty levels are falling.',\n",
              " 'Our achievements are being globally recognised today.',\n",
              " 'Yet we lack the self-confidence to\\n               see ourselves as a developed nation, self-reliant and self-assured.',\n",
              " 'Isn’t this incorrect?',\n",
              " 'I have a third vision.',\n",
              " 'India must stand up to the world.',\n",
              " 'Because I believe that unless India\\n               stands up to the world, no one will respect us.',\n",
              " 'Only strength respects strength.',\n",
              " 'We must be\\n               strong not only as a military power but also as an economic power.',\n",
              " 'Both must go hand-in-hand.',\n",
              " 'My good fortune was to have worked with three great minds.',\n",
              " 'Dr. Vikram Sarabhai of the Dept.',\n",
              " 'of\\n               space, Professor Satish Dhawan, who succeeded him and Dr. Brahm Prakash, father of nuclear material.',\n",
              " 'I was lucky to have worked with all three of them closely and consider this the great opportunity of my life.',\n",
              " 'I see four milestones in my career']"
            ]
          },
          "metadata": {},
          "execution_count": 12
        }
      ]
    },
    {
      "cell_type": "code",
      "source": [
        "type(sentence)"
      ],
      "metadata": {
        "colab": {
          "base_uri": "https://localhost:8080/"
        },
        "id": "pfFP0FBAaE6Y",
        "outputId": "8e1f8e05-b988-49c4-acdf-aa9ed7008b12"
      },
      "execution_count": 13,
      "outputs": [
        {
          "output_type": "execute_result",
          "data": {
            "text/plain": [
              "list"
            ]
          },
          "metadata": {},
          "execution_count": 13
        }
      ]
    },
    {
      "cell_type": "markdown",
      "source": [
        "##### Apply Stopwords And Filter And then Apply Stemming"
      ],
      "metadata": {
        "id": "VoXHE2g1asvs"
      }
    },
    {
      "cell_type": "code",
      "source": [
        "for i in range(len(sentence)):\n",
        "    words=nltk.word_tokenize(sentence[i])\n",
        "    words=[stemmer.stem(word) for word in words if word not in set(stopwords.words('english'))]\n",
        "    sentence[i]=' '.join(words)# converting all the list of words into sentences"
      ],
      "metadata": {
        "id": "7gMrzTZtaZlo"
      },
      "execution_count": 14,
      "outputs": []
    },
    {
      "cell_type": "code",
      "source": [
        "sentence"
      ],
      "metadata": {
        "colab": {
          "base_uri": "https://localhost:8080/"
        },
        "id": "gpRYQQtXcPK-",
        "outputId": "b3e3f7a1-4951-430e-af90-d6a5084151a0"
      },
      "execution_count": 15,
      "outputs": [
        {
          "output_type": "execute_result",
          "data": {
            "text/plain": [
              "['i three vision india .',\n",
              " 'in 3000 year histori , peopl world come invad us , captur land , conquer mind .',\n",
              " 'from alexand onward , greek , turk , mogul , portugues , british , french , dutch , came loot us , took .',\n",
              " 'yet done nation .',\n",
              " 'we conquer anyon .',\n",
              " 'we grab land , cultur , histori tri enforc way life .',\n",
              " 'whi ?',\n",
              " 'becaus respect freedom others.that first vision freedom .',\n",
              " 'i believ india got first vision 1857 , start war independ .',\n",
              " 'it freedom must protect nurtur build .',\n",
              " 'if free , one respect us .',\n",
              " 'my second vision india ’ develop .',\n",
              " 'for fifti year develop nation .',\n",
              " 'it time see develop nation .',\n",
              " 'we among top 5 nation world term gdp .',\n",
              " 'we 10 percent growth rate area .',\n",
              " 'our poverti level fall .',\n",
              " 'our achiev global recognis today .',\n",
              " 'yet lack self-confid see develop nation , self-reli self-assur .',\n",
              " 'isn ’ incorrect ?',\n",
              " 'i third vision .',\n",
              " 'india must stand world .',\n",
              " 'becaus i believ unless india stand world , one respect us .',\n",
              " 'onli strength respect strength .',\n",
              " 'we must strong militari power also econom power .',\n",
              " 'both must go hand-in-hand .',\n",
              " 'my good fortun work three great mind .',\n",
              " 'dr. vikram sarabhai dept .',\n",
              " 'space , professor satish dhawan , succeed dr. brahm prakash , father nuclear materi .',\n",
              " 'i lucki work three close consid great opportun life .',\n",
              " 'i see four mileston career']"
            ]
          },
          "metadata": {},
          "execution_count": 15
        }
      ]
    },
    {
      "cell_type": "code",
      "source": [
        "from nltk.stem import SnowballStemmer\n",
        "snowballstemmer=SnowballStemmer('english')"
      ],
      "metadata": {
        "id": "LrHvDbTZcgP4"
      },
      "execution_count": 16,
      "outputs": []
    },
    {
      "cell_type": "code",
      "source": [
        "## Apply Stopwords And Filter And then Apply Snowball Stemming\n",
        "\n",
        "for i in range(len(sentence)):\n",
        "    words=nltk.word_tokenize(sentence[i])\n",
        "    words=[snowballstemmer.stem(word) for word in words if word not in set(stopwords.words('english'))]\n",
        "    sentence[i]=' '.join(words)# converting all the list of words into sentences"
      ],
      "metadata": {
        "id": "hB66d-Xhc2y6"
      },
      "execution_count": 17,
      "outputs": []
    },
    {
      "cell_type": "code",
      "source": [
        "sentence"
      ],
      "metadata": {
        "colab": {
          "base_uri": "https://localhost:8080/"
        },
        "id": "sSzoipg2c5pW",
        "outputId": "1fc44bb1-8a84-40e1-fd97-6381e3a0d1af"
      },
      "execution_count": 18,
      "outputs": [
        {
          "output_type": "execute_result",
          "data": {
            "text/plain": [
              "['three vision india .',\n",
              " '3000 year histori , peopl world come invad us , captur land , conquer mind .',\n",
              " 'alexand onward , greek , turk , mogul , portugu , british , french , dutch , came loot us , took .',\n",
              " 'yet done nation .',\n",
              " 'conquer anyon .',\n",
              " 'grab land , cultur , histori tri enforc way life .',\n",
              " 'whi ?',\n",
              " 'becaus respect freedom others.that first vision freedom .',\n",
              " 'believ india got first vision 1857 , start war independ .',\n",
              " 'freedom must protect nurtur build .',\n",
              " 'free , one respect us .',\n",
              " 'second vision india ’ develop .',\n",
              " 'fifti year develop nation .',\n",
              " 'time see develop nation .',\n",
              " 'among top 5 nation world term gdp .',\n",
              " '10 percent growth rate area .',\n",
              " 'poverti level fall .',\n",
              " 'achiev global recogni today .',\n",
              " 'yet lack self-confid see develop nation , self-r self-assur .',\n",
              " '’ incorrect ?',\n",
              " 'third vision .',\n",
              " 'india must stand world .',\n",
              " 'becaus believ unless india stand world , one respect us .',\n",
              " 'on strength respect strength .',\n",
              " 'must strong militari power also econom power .',\n",
              " 'must go hand-in-hand .',\n",
              " 'good fortun work three great mind .',\n",
              " 'dr. vikram sarabhai dept .',\n",
              " 'space , professor satish dhawan , succeed dr. brahm prakash , father nuclear materi .',\n",
              " 'lucki work three close consid great opportun life .',\n",
              " 'see four mileston career']"
            ]
          },
          "metadata": {},
          "execution_count": 18
        }
      ]
    },
    {
      "cell_type": "code",
      "source": [
        "from nltk.stem import WordNetLemmatizer"
      ],
      "metadata": {
        "id": "HIvGzcEuc-wL"
      },
      "execution_count": 19,
      "outputs": []
    },
    {
      "cell_type": "code",
      "source": [
        "lemmatizer=WordNetLemmatizer()"
      ],
      "metadata": {
        "id": "kg1ZV8w0wwcO"
      },
      "execution_count": 20,
      "outputs": []
    },
    {
      "cell_type": "code",
      "source": [
        "## Apply Stopwords And Filter And then Apply Snowball Stemming\n",
        "\n",
        "for i in range(len(sentence)):\n",
        "    words=nltk.word_tokenize(sentence[i])\n",
        "    words=[lemmatizer.lemmatize(word.lower(),pos='v') for word in words if word not in set(stopwords.words('english'))]\n",
        "    sentence[i]=' '.join(words)# converting all the list of words into sentences"
      ],
      "metadata": {
        "id": "j-aR68GDxBPS"
      },
      "execution_count": 21,
      "outputs": []
    },
    {
      "cell_type": "code",
      "source": [
        "sentence"
      ],
      "metadata": {
        "colab": {
          "base_uri": "https://localhost:8080/"
        },
        "id": "HjJwa-5dxV4y",
        "outputId": "f9271cf9-b6af-4cc6-89f1-0fa23a8a39b6"
      },
      "execution_count": 22,
      "outputs": [
        {
          "output_type": "execute_result",
          "data": {
            "text/plain": [
              "['three vision india .',\n",
              " '3000 year histori , peopl world come invad us , captur land , conquer mind .',\n",
              " 'alexand onward , greek , turk , mogul , portugu , british , french , dutch , come loot us , take .',\n",
              " 'yet do nation .',\n",
              " 'conquer anyon .',\n",
              " 'grab land , cultur , histori tri enforc way life .',\n",
              " 'whi ?',\n",
              " 'becaus respect freedom others.that first vision freedom .',\n",
              " 'believ india get first vision 1857 , start war independ .',\n",
              " 'freedom must protect nurtur build .',\n",
              " 'free , one respect us .',\n",
              " 'second vision india ’ develop .',\n",
              " 'fifti year develop nation .',\n",
              " 'time see develop nation .',\n",
              " 'among top 5 nation world term gdp .',\n",
              " '10 percent growth rate area .',\n",
              " 'poverti level fall .',\n",
              " 'achiev global recogni today .',\n",
              " 'yet lack self-confid see develop nation , self-r self-assur .',\n",
              " '’ incorrect ?',\n",
              " 'third vision .',\n",
              " 'india must stand world .',\n",
              " 'becaus believ unless india stand world , one respect us .',\n",
              " 'strength respect strength .',\n",
              " 'must strong militari power also econom power .',\n",
              " 'must go hand-in-hand .',\n",
              " 'good fortun work three great mind .',\n",
              " 'dr. vikram sarabhai dept .',\n",
              " 'space , professor satish dhawan , succeed dr. brahm prakash , father nuclear materi .',\n",
              " 'lucki work three close consid great opportun life .',\n",
              " 'see four mileston career']"
            ]
          },
          "metadata": {},
          "execution_count": 22
        }
      ]
    },
    {
      "cell_type": "code",
      "source": [
        "from sklearn.feature_extraction.text import CountVectorizer\n",
        "cv=CountVectorizer()"
      ],
      "metadata": {
        "id": "2ihTXF7hxtLv"
      },
      "execution_count": 23,
      "outputs": []
    },
    {
      "cell_type": "code",
      "source": [
        "X=cv.fit_transform(sentence)"
      ],
      "metadata": {
        "id": "Rlr5U8UzboJ_"
      },
      "execution_count": 24,
      "outputs": []
    },
    {
      "cell_type": "code",
      "source": [
        "cv.vocabulary_"
      ],
      "metadata": {
        "colab": {
          "base_uri": "https://localhost:8080/"
        },
        "id": "IDT703gmbwnZ",
        "outputId": "a63e42b8-5058-46f6-f00e-3da5d4f85714"
      },
      "execution_count": 25,
      "outputs": [
        {
          "output_type": "execute_result",
          "data": {
            "text/plain": [
              "{'three': 101,\n",
              " 'vision': 110,\n",
              " 'india': 54,\n",
              " '3000': 2,\n",
              " 'year': 116,\n",
              " 'histori': 50,\n",
              " 'peopl': 75,\n",
              " 'world': 115,\n",
              " 'come': 18,\n",
              " 'invad': 55,\n",
              " 'us': 108,\n",
              " 'captur': 15,\n",
              " 'land': 57,\n",
              " 'conquer': 20,\n",
              " 'mind': 65,\n",
              " 'alexand': 4,\n",
              " 'onward': 72,\n",
              " 'greek': 47,\n",
              " 'turk': 106,\n",
              " 'mogul': 66,\n",
              " 'portugu': 77,\n",
              " 'british': 13,\n",
              " 'french': 39,\n",
              " 'dutch': 28,\n",
              " 'loot': 60,\n",
              " 'take': 97,\n",
              " 'yet': 117,\n",
              " 'do': 26,\n",
              " 'nation': 68,\n",
              " 'anyon': 7,\n",
              " 'grab': 45,\n",
              " 'cultur': 22,\n",
              " 'tri': 105,\n",
              " 'enforc': 30,\n",
              " 'way': 112,\n",
              " 'life': 59,\n",
              " 'whi': 113,\n",
              " 'becaus': 10,\n",
              " 'respect': 85,\n",
              " 'freedom': 38,\n",
              " 'others': 74,\n",
              " 'that': 99,\n",
              " 'first': 34,\n",
              " 'believ': 11,\n",
              " 'get': 41,\n",
              " '1857': 1,\n",
              " 'start': 93,\n",
              " 'war': 111,\n",
              " 'independ': 53,\n",
              " 'must': 67,\n",
              " 'protect': 82,\n",
              " 'nurtur': 70,\n",
              " 'build': 14,\n",
              " 'free': 37,\n",
              " 'one': 71,\n",
              " 'second': 88,\n",
              " 'develop': 24,\n",
              " 'fifti': 33,\n",
              " 'time': 102,\n",
              " 'see': 89,\n",
              " 'among': 6,\n",
              " 'top': 104,\n",
              " 'term': 98,\n",
              " 'gdp': 40,\n",
              " '10': 0,\n",
              " 'percent': 76,\n",
              " 'growth': 48,\n",
              " 'rate': 83,\n",
              " 'area': 8,\n",
              " 'poverti': 78,\n",
              " 'level': 58,\n",
              " 'fall': 31,\n",
              " 'achiev': 3,\n",
              " 'global': 42,\n",
              " 'recogni': 84,\n",
              " 'today': 103,\n",
              " 'lack': 56,\n",
              " 'self': 90,\n",
              " 'confid': 19,\n",
              " 'assur': 9,\n",
              " 'incorrect': 52,\n",
              " 'third': 100,\n",
              " 'stand': 92,\n",
              " 'unless': 107,\n",
              " 'strength': 94,\n",
              " 'strong': 95,\n",
              " 'militari': 64,\n",
              " 'power': 79,\n",
              " 'also': 5,\n",
              " 'econom': 29,\n",
              " 'go': 43,\n",
              " 'hand': 49,\n",
              " 'in': 51,\n",
              " 'good': 44,\n",
              " 'fortun': 35,\n",
              " 'work': 114,\n",
              " 'great': 46,\n",
              " 'dr': 27,\n",
              " 'vikram': 109,\n",
              " 'sarabhai': 86,\n",
              " 'dept': 23,\n",
              " 'space': 91,\n",
              " 'professor': 81,\n",
              " 'satish': 87,\n",
              " 'dhawan': 25,\n",
              " 'succeed': 96,\n",
              " 'brahm': 12,\n",
              " 'prakash': 80,\n",
              " 'father': 32,\n",
              " 'nuclear': 69,\n",
              " 'materi': 62,\n",
              " 'lucki': 61,\n",
              " 'close': 17,\n",
              " 'consid': 21,\n",
              " 'opportun': 73,\n",
              " 'four': 36,\n",
              " 'mileston': 63,\n",
              " 'career': 16}"
            ]
          },
          "metadata": {},
          "execution_count": 25
        }
      ]
    },
    {
      "cell_type": "code",
      "source": [
        "sentence[0]"
      ],
      "metadata": {
        "colab": {
          "base_uri": "https://localhost:8080/",
          "height": 36
        },
        "id": "B0e1r_W1cQnP",
        "outputId": "a997b284-d021-47aa-8f8f-38c588707926"
      },
      "execution_count": 26,
      "outputs": [
        {
          "output_type": "execute_result",
          "data": {
            "text/plain": [
              "'three vision india .'"
            ],
            "application/vnd.google.colaboratory.intrinsic+json": {
              "type": "string"
            }
          },
          "metadata": {},
          "execution_count": 26
        }
      ]
    },
    {
      "cell_type": "code",
      "source": [
        "X[0].toarray()"
      ],
      "metadata": {
        "colab": {
          "base_uri": "https://localhost:8080/"
        },
        "id": "EF1wVJuGb67e",
        "outputId": "e0ed7918-3dbe-46ff-e2e7-174de13290d4"
      },
      "execution_count": 27,
      "outputs": [
        {
          "output_type": "execute_result",
          "data": {
            "text/plain": [
              "array([[0, 0, 0, 0, 0, 0, 0, 0, 0, 0, 0, 0, 0, 0, 0, 0, 0, 0, 0, 0, 0, 0,\n",
              "        0, 0, 0, 0, 0, 0, 0, 0, 0, 0, 0, 0, 0, 0, 0, 0, 0, 0, 0, 0, 0, 0,\n",
              "        0, 0, 0, 0, 0, 0, 0, 0, 0, 0, 1, 0, 0, 0, 0, 0, 0, 0, 0, 0, 0, 0,\n",
              "        0, 0, 0, 0, 0, 0, 0, 0, 0, 0, 0, 0, 0, 0, 0, 0, 0, 0, 0, 0, 0, 0,\n",
              "        0, 0, 0, 0, 0, 0, 0, 0, 0, 0, 0, 0, 0, 1, 0, 0, 0, 0, 0, 0, 0, 0,\n",
              "        1, 0, 0, 0, 0, 0, 0, 0]])"
            ]
          },
          "metadata": {},
          "execution_count": 27
        }
      ]
    },
    {
      "cell_type": "markdown",
      "source": [
        "#### To convert into Binary BOW"
      ],
      "metadata": {
        "id": "AhODblchcnDe"
      }
    },
    {
      "cell_type": "code",
      "source": [
        "cv=CountVectorizer(binary=True,ngram_range=(2,3))\n",
        "X=cv.fit_transform(sentence)"
      ],
      "metadata": {
        "id": "orggnRGWcM0-"
      },
      "execution_count": 34,
      "outputs": []
    },
    {
      "cell_type": "code",
      "source": [
        "cv.vocabulary_"
      ],
      "metadata": {
        "colab": {
          "base_uri": "https://localhost:8080/"
        },
        "id": "JDiIEGsdc3eD",
        "outputId": "c9bb316d-5455-4ee4-8c0a-5f148778f649"
      },
      "execution_count": 35,
      "outputs": [
        {
          "output_type": "execute_result",
          "data": {
            "text/plain": [
              "{'three vision': 201,\n",
              " 'vision india': 221,\n",
              " 'three vision india': 202,\n",
              " '3000 year': 4,\n",
              " 'year histori': 236,\n",
              " 'histori peopl': 94,\n",
              " 'peopl world': 145,\n",
              " 'world come': 228,\n",
              " 'come invad': 30,\n",
              " 'invad us': 106,\n",
              " 'us captur': 213,\n",
              " 'captur land': 26,\n",
              " 'land conquer': 110,\n",
              " 'conquer mind': 37,\n",
              " '3000 year histori': 5,\n",
              " 'year histori peopl': 237,\n",
              " 'histori peopl world': 95,\n",
              " 'peopl world come': 146,\n",
              " 'world come invad': 229,\n",
              " 'come invad us': 31,\n",
              " 'invad us captur': 107,\n",
              " 'us captur land': 214,\n",
              " 'captur land conquer': 27,\n",
              " 'land conquer mind': 111,\n",
              " 'alexand onward': 8,\n",
              " 'onward greek': 140,\n",
              " 'greek turk': 88,\n",
              " 'turk mogul': 209,\n",
              " 'mogul portugu': 122,\n",
              " 'portugu british': 149,\n",
              " 'british french': 24,\n",
              " 'french dutch': 73,\n",
              " 'dutch come': 51,\n",
              " 'come loot': 32,\n",
              " 'loot us': 115,\n",
              " 'us take': 215,\n",
              " 'alexand onward greek': 9,\n",
              " 'onward greek turk': 141,\n",
              " 'greek turk mogul': 89,\n",
              " 'turk mogul portugu': 210,\n",
              " 'mogul portugu british': 123,\n",
              " 'portugu british french': 150,\n",
              " 'british french dutch': 25,\n",
              " 'french dutch come': 74,\n",
              " 'dutch come loot': 52,\n",
              " 'come loot us': 33,\n",
              " 'loot us take': 116,\n",
              " 'yet do': 238,\n",
              " 'do nation': 46,\n",
              " 'yet do nation': 239,\n",
              " 'conquer anyon': 36,\n",
              " 'grab land': 83,\n",
              " 'land cultur': 112,\n",
              " 'cultur histori': 40,\n",
              " 'histori tri': 96,\n",
              " 'tri enforc': 207,\n",
              " 'enforc way': 54,\n",
              " 'way life': 224,\n",
              " 'grab land cultur': 84,\n",
              " 'land cultur histori': 113,\n",
              " 'cultur histori tri': 41,\n",
              " 'histori tri enforc': 97,\n",
              " 'tri enforc way': 208,\n",
              " 'enforc way life': 55,\n",
              " 'becaus respect': 16,\n",
              " 'respect freedom': 163,\n",
              " 'freedom others': 71,\n",
              " 'others that': 143,\n",
              " 'that first': 194,\n",
              " 'first vision': 60,\n",
              " 'vision freedom': 220,\n",
              " 'becaus respect freedom': 17,\n",
              " 'respect freedom others': 164,\n",
              " 'freedom others that': 72,\n",
              " 'others that first': 144,\n",
              " 'that first vision': 195,\n",
              " 'first vision freedom': 62,\n",
              " 'believ india': 18,\n",
              " 'india get': 100,\n",
              " 'get first': 75,\n",
              " 'vision 1857': 218,\n",
              " '1857 start': 2,\n",
              " 'start war': 185,\n",
              " 'war independ': 223,\n",
              " 'believ india get': 19,\n",
              " 'india get first': 101,\n",
              " 'get first vision': 76,\n",
              " 'first vision 1857': 61,\n",
              " 'vision 1857 start': 219,\n",
              " '1857 start war': 3,\n",
              " 'start war independ': 186,\n",
              " 'freedom must': 69,\n",
              " 'must protect': 126,\n",
              " 'protect nurtur': 159,\n",
              " 'nurtur build': 137,\n",
              " 'freedom must protect': 70,\n",
              " 'must protect nurtur': 127,\n",
              " 'protect nurtur build': 160,\n",
              " 'free one': 67,\n",
              " 'one respect': 138,\n",
              " 'respect us': 166,\n",
              " 'free one respect': 68,\n",
              " 'one respect us': 139,\n",
              " 'second vision': 170,\n",
              " 'india develop': 99,\n",
              " 'second vision india': 171,\n",
              " 'vision india develop': 222,\n",
              " 'fifti year': 58,\n",
              " 'year develop': 234,\n",
              " 'develop nation': 42,\n",
              " 'fifti year develop': 59,\n",
              " 'year develop nation': 235,\n",
              " 'time see': 203,\n",
              " 'see develop': 172,\n",
              " 'time see develop': 204,\n",
              " 'see develop nation': 173,\n",
              " 'among top': 12,\n",
              " 'top nation': 205,\n",
              " 'nation world': 134,\n",
              " 'world term': 232,\n",
              " 'term gdp': 193,\n",
              " 'among top nation': 13,\n",
              " 'top nation world': 206,\n",
              " 'nation world term': 135,\n",
              " 'world term gdp': 233,\n",
              " '10 percent': 0,\n",
              " 'percent growth': 147,\n",
              " 'growth rate': 90,\n",
              " 'rate area': 161,\n",
              " '10 percent growth': 1,\n",
              " 'percent growth rate': 148,\n",
              " 'growth rate area': 91,\n",
              " 'poverti level': 151,\n",
              " 'level fall': 114,\n",
              " 'poverti level fall': 152,\n",
              " 'achiev global': 6,\n",
              " 'global recogni': 77,\n",
              " 'recogni today': 162,\n",
              " 'achiev global recogni': 7,\n",
              " 'global recogni today': 78,\n",
              " 'yet lack': 240,\n",
              " 'lack self': 108,\n",
              " 'self confid': 177,\n",
              " 'confid see': 34,\n",
              " 'nation self': 132,\n",
              " 'self self': 179,\n",
              " 'self assur': 176,\n",
              " 'yet lack self': 241,\n",
              " 'lack self confid': 109,\n",
              " 'self confid see': 178,\n",
              " 'confid see develop': 35,\n",
              " 'develop nation self': 43,\n",
              " 'nation self self': 133,\n",
              " 'self self assur': 180,\n",
              " 'third vision': 196,\n",
              " 'india must': 102,\n",
              " 'must stand': 128,\n",
              " 'stand world': 183,\n",
              " 'india must stand': 103,\n",
              " 'must stand world': 129,\n",
              " 'becaus believ': 14,\n",
              " 'believ unless': 20,\n",
              " 'unless india': 211,\n",
              " 'india stand': 104,\n",
              " 'world one': 230,\n",
              " 'becaus believ unless': 15,\n",
              " 'believ unless india': 21,\n",
              " 'unless india stand': 212,\n",
              " 'india stand world': 105,\n",
              " 'stand world one': 184,\n",
              " 'world one respect': 231,\n",
              " 'strength respect': 187,\n",
              " 'respect strength': 165,\n",
              " 'strength respect strength': 188,\n",
              " 'must strong': 130,\n",
              " 'strong militari': 189,\n",
              " 'militari power': 120,\n",
              " 'power also': 153,\n",
              " 'also econom': 10,\n",
              " 'econom power': 53,\n",
              " 'must strong militari': 131,\n",
              " 'strong militari power': 190,\n",
              " 'militari power also': 121,\n",
              " 'power also econom': 154,\n",
              " 'also econom power': 11,\n",
              " 'must go': 124,\n",
              " 'go hand': 79,\n",
              " 'hand in': 92,\n",
              " 'in hand': 98,\n",
              " 'must go hand': 125,\n",
              " 'go hand in': 80,\n",
              " 'hand in hand': 93,\n",
              " 'good fortun': 81,\n",
              " 'fortun work': 63,\n",
              " 'work three': 225,\n",
              " 'three great': 199,\n",
              " 'great mind': 85,\n",
              " 'good fortun work': 82,\n",
              " 'fortun work three': 64,\n",
              " 'work three great': 227,\n",
              " 'three great mind': 200,\n",
              " 'dr vikram': 49,\n",
              " 'vikram sarabhai': 216,\n",
              " 'sarabhai dept': 167,\n",
              " 'dr vikram sarabhai': 50,\n",
              " 'vikram sarabhai dept': 217,\n",
              " 'space professor': 181,\n",
              " 'professor satish': 157,\n",
              " 'satish dhawan': 168,\n",
              " 'dhawan succeed': 44,\n",
              " 'succeed dr': 191,\n",
              " 'dr brahm': 47,\n",
              " 'brahm prakash': 22,\n",
              " 'prakash father': 155,\n",
              " 'father nuclear': 56,\n",
              " 'nuclear materi': 136,\n",
              " 'space professor satish': 182,\n",
              " 'professor satish dhawan': 158,\n",
              " 'satish dhawan succeed': 169,\n",
              " 'dhawan succeed dr': 45,\n",
              " 'succeed dr brahm': 192,\n",
              " 'dr brahm prakash': 48,\n",
              " 'brahm prakash father': 23,\n",
              " 'prakash father nuclear': 156,\n",
              " 'father nuclear materi': 57,\n",
              " 'lucki work': 117,\n",
              " 'three close': 197,\n",
              " 'close consid': 28,\n",
              " 'consid great': 38,\n",
              " 'great opportun': 86,\n",
              " 'opportun life': 142,\n",
              " 'lucki work three': 118,\n",
              " 'work three close': 226,\n",
              " 'three close consid': 198,\n",
              " 'close consid great': 29,\n",
              " 'consid great opportun': 39,\n",
              " 'great opportun life': 87,\n",
              " 'see four': 174,\n",
              " 'four mileston': 65,\n",
              " 'mileston career': 119,\n",
              " 'see four mileston': 175,\n",
              " 'four mileston career': 66}"
            ]
          },
          "metadata": {},
          "execution_count": 35
        }
      ]
    },
    {
      "cell_type": "code",
      "source": [
        "sentence[0]"
      ],
      "metadata": {
        "colab": {
          "base_uri": "https://localhost:8080/",
          "height": 36
        },
        "id": "Z0lEbOFUc5tk",
        "outputId": "9229c6fc-200b-435e-d7da-0351dd3183d4"
      },
      "execution_count": 36,
      "outputs": [
        {
          "output_type": "execute_result",
          "data": {
            "text/plain": [
              "'three vision india .'"
            ],
            "application/vnd.google.colaboratory.intrinsic+json": {
              "type": "string"
            }
          },
          "metadata": {},
          "execution_count": 36
        }
      ]
    },
    {
      "cell_type": "code",
      "source": [
        "X[0].toarray()"
      ],
      "metadata": {
        "colab": {
          "base_uri": "https://localhost:8080/"
        },
        "id": "RhclOuCDc9Lf",
        "outputId": "50a7399d-7360-485c-9253-5a4149a4194c"
      },
      "execution_count": 37,
      "outputs": [
        {
          "output_type": "execute_result",
          "data": {
            "text/plain": [
              "array([[0, 0, 0, 0, 0, 0, 0, 0, 0, 0, 0, 0, 0, 0, 0, 0, 0, 0, 0, 0, 0, 0,\n",
              "        0, 0, 0, 0, 0, 0, 0, 0, 0, 0, 0, 0, 0, 0, 0, 0, 0, 0, 0, 0, 0, 0,\n",
              "        0, 0, 0, 0, 0, 0, 0, 0, 0, 0, 0, 0, 0, 0, 0, 0, 0, 0, 0, 0, 0, 0,\n",
              "        0, 0, 0, 0, 0, 0, 0, 0, 0, 0, 0, 0, 0, 0, 0, 0, 0, 0, 0, 0, 0, 0,\n",
              "        0, 0, 0, 0, 0, 0, 0, 0, 0, 0, 0, 0, 0, 0, 0, 0, 0, 0, 0, 0, 0, 0,\n",
              "        0, 0, 0, 0, 0, 0, 0, 0, 0, 0, 0, 0, 0, 0, 0, 0, 0, 0, 0, 0, 0, 0,\n",
              "        0, 0, 0, 0, 0, 0, 0, 0, 0, 0, 0, 0, 0, 0, 0, 0, 0, 0, 0, 0, 0, 0,\n",
              "        0, 0, 0, 0, 0, 0, 0, 0, 0, 0, 0, 0, 0, 0, 0, 0, 0, 0, 0, 0, 0, 0,\n",
              "        0, 0, 0, 0, 0, 0, 0, 0, 0, 0, 0, 0, 0, 0, 0, 0, 0, 0, 0, 0, 0, 0,\n",
              "        0, 0, 0, 1, 1, 0, 0, 0, 0, 0, 0, 0, 0, 0, 0, 0, 0, 0, 0, 0, 0, 0,\n",
              "        0, 1, 0, 0, 0, 0, 0, 0, 0, 0, 0, 0, 0, 0, 0, 0, 0, 0, 0, 0, 0, 0]])"
            ]
          },
          "metadata": {},
          "execution_count": 37
        }
      ]
    }
  ]
}