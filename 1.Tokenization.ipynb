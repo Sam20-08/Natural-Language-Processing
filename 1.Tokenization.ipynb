{
  "cells": [
    {
      "cell_type": "code",
      "execution_count": 1,
      "metadata": {
        "colab": {
          "base_uri": "https://localhost:8080/"
        },
        "id": "1cC-uxFyao6k",
        "outputId": "293ebde2-8ac7-476a-e1e0-f876799c2040"
      },
      "outputs": [
        {
          "output_type": "stream",
          "name": "stdout",
          "text": [
            "Requirement already satisfied: nltk in /usr/local/lib/python3.10/dist-packages (3.8.1)\n",
            "Requirement already satisfied: click in /usr/local/lib/python3.10/dist-packages (from nltk) (8.1.7)\n",
            "Requirement already satisfied: joblib in /usr/local/lib/python3.10/dist-packages (from nltk) (1.4.2)\n",
            "Requirement already satisfied: regex>=2021.8.3 in /usr/local/lib/python3.10/dist-packages (from nltk) (2023.12.25)\n",
            "Requirement already satisfied: tqdm in /usr/local/lib/python3.10/dist-packages (from nltk) (4.66.4)\n"
          ]
        }
      ],
      "source": [
        "!pip install nltk"
      ]
    },
    {
      "cell_type": "code",
      "source": [
        "import nltk\n",
        "nltk.download('punkt')"
      ],
      "metadata": {
        "colab": {
          "base_uri": "https://localhost:8080/"
        },
        "id": "hxK2O3tIfEXz",
        "outputId": "f7ae57b2-2a33-4071-96a4-114fe761c3c1"
      },
      "execution_count": 2,
      "outputs": [
        {
          "output_type": "stream",
          "name": "stderr",
          "text": [
            "[nltk_data] Downloading package punkt to /root/nltk_data...\n",
            "[nltk_data]   Unzipping tokenizers/punkt.zip.\n"
          ]
        },
        {
          "output_type": "execute_result",
          "data": {
            "text/plain": [
              "True"
            ]
          },
          "metadata": {},
          "execution_count": 2
        }
      ]
    },
    {
      "cell_type": "code",
      "execution_count": 3,
      "metadata": {
        "id": "28Jpshksa11T"
      },
      "outputs": [],
      "source": [
        "corpus='''\n",
        "Hello I am Sam and a student doing computer science.\n",
        "I am passionate about learning DS! I want to learn more ont his domain's\n",
        "'''"
      ]
    },
    {
      "cell_type": "code",
      "execution_count": 4,
      "metadata": {
        "colab": {
          "base_uri": "https://localhost:8080/",
          "height": 36
        },
        "id": "dkQAlPA5b4tL",
        "outputId": "163dc9bc-d882-419d-c472-60498686e1d4"
      },
      "outputs": [
        {
          "output_type": "execute_result",
          "data": {
            "text/plain": [
              "\"\\nHello I am Sam and a student doing computer science.\\nI am passionate about learning DS! I want to learn more ont his domain's\\n\""
            ],
            "application/vnd.google.colaboratory.intrinsic+json": {
              "type": "string"
            }
          },
          "metadata": {},
          "execution_count": 4
        }
      ],
      "source": [
        "corpus"
      ]
    },
    {
      "cell_type": "markdown",
      "source": [
        "### Paragraph to Sentences"
      ],
      "metadata": {
        "id": "nPjpSF7zgOMs"
      }
    },
    {
      "cell_type": "code",
      "execution_count": 5,
      "metadata": {
        "id": "S2sInT9Eb9YM"
      },
      "outputs": [],
      "source": [
        "# Tokenization\n",
        "\n",
        "from nltk.tokenize import sent_tokenize\n",
        "# sent_tokenize is used to convert para to sentence\n"
      ]
    },
    {
      "cell_type": "code",
      "execution_count": 6,
      "metadata": {
        "id": "ePuEmM_rcfyI"
      },
      "outputs": [],
      "source": [
        "documents=sent_tokenize(corpus)"
      ]
    },
    {
      "cell_type": "code",
      "source": [
        "documents"
      ],
      "metadata": {
        "colab": {
          "base_uri": "https://localhost:8080/"
        },
        "id": "XpSD8_LAewGU",
        "outputId": "4e96fc82-d9a0-4994-c6f0-31f35e394282"
      },
      "execution_count": 7,
      "outputs": [
        {
          "output_type": "execute_result",
          "data": {
            "text/plain": [
              "['\\nHello I am Sam and a student doing computer science.',\n",
              " 'I am passionate about learning DS!',\n",
              " \"I want to learn more ont his domain's\"]"
            ]
          },
          "metadata": {},
          "execution_count": 7
        }
      ]
    },
    {
      "cell_type": "code",
      "source": [
        "type(documents)"
      ],
      "metadata": {
        "colab": {
          "base_uri": "https://localhost:8080/"
        },
        "id": "dKgnglgWfk1p",
        "outputId": "a9cb4f6e-7994-4b1c-8cd9-fe4415150563"
      },
      "execution_count": 8,
      "outputs": [
        {
          "output_type": "execute_result",
          "data": {
            "text/plain": [
              "list"
            ]
          },
          "metadata": {},
          "execution_count": 8
        }
      ]
    },
    {
      "cell_type": "code",
      "source": [
        "for sentence in documents:\n",
        "  print(sentence)"
      ],
      "metadata": {
        "colab": {
          "base_uri": "https://localhost:8080/"
        },
        "id": "3t_qCc7yfuBT",
        "outputId": "31913d1a-69ac-4169-d909-610954aa8e8e"
      },
      "execution_count": 9,
      "outputs": [
        {
          "output_type": "stream",
          "name": "stdout",
          "text": [
            "\n",
            "Hello I am Sam and a student doing computer science.\n",
            "I am passionate about learning DS!\n",
            "I want to learn more ont his domain's\n"
          ]
        }
      ]
    },
    {
      "cell_type": "markdown",
      "source": [
        "### Paragraph to words (or) Sentence to words"
      ],
      "metadata": {
        "id": "nvR9yZNngEQy"
      }
    },
    {
      "cell_type": "code",
      "source": [
        "from nltk.tokenize import word_tokenize"
      ],
      "metadata": {
        "id": "DuEdB1Dvf8fq"
      },
      "execution_count": 10,
      "outputs": []
    },
    {
      "cell_type": "code",
      "source": [
        "word_tokenize(corpus)"
      ],
      "metadata": {
        "colab": {
          "base_uri": "https://localhost:8080/"
        },
        "id": "1q2iQXGagiH3",
        "outputId": "2bf2f5da-8a73-4e04-ce4c-f10784a9beb6"
      },
      "execution_count": 11,
      "outputs": [
        {
          "output_type": "execute_result",
          "data": {
            "text/plain": [
              "['Hello',\n",
              " 'I',\n",
              " 'am',\n",
              " 'Sam',\n",
              " 'and',\n",
              " 'a',\n",
              " 'student',\n",
              " 'doing',\n",
              " 'computer',\n",
              " 'science',\n",
              " '.',\n",
              " 'I',\n",
              " 'am',\n",
              " 'passionate',\n",
              " 'about',\n",
              " 'learning',\n",
              " 'DS',\n",
              " '!',\n",
              " 'I',\n",
              " 'want',\n",
              " 'to',\n",
              " 'learn',\n",
              " 'more',\n",
              " 'ont',\n",
              " 'his',\n",
              " 'domain',\n",
              " \"'s\"]"
            ]
          },
          "metadata": {},
          "execution_count": 11
        }
      ]
    },
    {
      "cell_type": "code",
      "source": [
        "for sentence in documents:\n",
        "  print(word_tokenize(sentence))"
      ],
      "metadata": {
        "colab": {
          "base_uri": "https://localhost:8080/"
        },
        "id": "ACho0YxtgnAm",
        "outputId": "b3dcc521-9729-4aa8-8832-908b5ef7038f"
      },
      "execution_count": 12,
      "outputs": [
        {
          "output_type": "stream",
          "name": "stdout",
          "text": [
            "['Hello', 'I', 'am', 'Sam', 'and', 'a', 'student', 'doing', 'computer', 'science', '.']\n",
            "['I', 'am', 'passionate', 'about', 'learning', 'DS', '!']\n",
            "['I', 'want', 'to', 'learn', 'more', 'ont', 'his', 'domain', \"'s\"]\n"
          ]
        }
      ]
    },
    {
      "cell_type": "code",
      "source": [
        "from nltk.tokenize import wordpunct_tokenize"
      ],
      "metadata": {
        "id": "gTK8jDSpg-YK"
      },
      "execution_count": 13,
      "outputs": []
    },
    {
      "cell_type": "code",
      "source": [
        "wordpunct_tokenize(corpus)"
      ],
      "metadata": {
        "colab": {
          "base_uri": "https://localhost:8080/"
        },
        "id": "DPTmFrbPhKBQ",
        "outputId": "ba78f97b-c252-4ee9-c1fc-4f41742df702"
      },
      "execution_count": 14,
      "outputs": [
        {
          "output_type": "execute_result",
          "data": {
            "text/plain": [
              "['Hello',\n",
              " 'I',\n",
              " 'am',\n",
              " 'Sam',\n",
              " 'and',\n",
              " 'a',\n",
              " 'student',\n",
              " 'doing',\n",
              " 'computer',\n",
              " 'science',\n",
              " '.',\n",
              " 'I',\n",
              " 'am',\n",
              " 'passionate',\n",
              " 'about',\n",
              " 'learning',\n",
              " 'DS',\n",
              " '!',\n",
              " 'I',\n",
              " 'want',\n",
              " 'to',\n",
              " 'learn',\n",
              " 'more',\n",
              " 'ont',\n",
              " 'his',\n",
              " 'domain',\n",
              " \"'\",\n",
              " 's']"
            ]
          },
          "metadata": {},
          "execution_count": 14
        }
      ]
    },
    {
      "cell_type": "code",
      "source": [
        "from nltk.tokenize import TreebankWordTokenizer"
      ],
      "metadata": {
        "id": "6j-XQAKohdS-"
      },
      "execution_count": 15,
      "outputs": []
    },
    {
      "cell_type": "code",
      "source": [
        "tokenizer=TreebankWordTokenizer()"
      ],
      "metadata": {
        "id": "Zu1miM1ah-Rn"
      },
      "execution_count": 16,
      "outputs": []
    },
    {
      "cell_type": "code",
      "source": [
        "tokenizer.tokenize(corpus)"
      ],
      "metadata": {
        "colab": {
          "base_uri": "https://localhost:8080/"
        },
        "id": "RtGRbayxiEvQ",
        "outputId": "3c3dcc7a-8364-49b2-e682-66e66930de0c"
      },
      "execution_count": 17,
      "outputs": [
        {
          "output_type": "execute_result",
          "data": {
            "text/plain": [
              "['Hello',\n",
              " 'I',\n",
              " 'am',\n",
              " 'Sam',\n",
              " 'and',\n",
              " 'a',\n",
              " 'student',\n",
              " 'doing',\n",
              " 'computer',\n",
              " 'science.',\n",
              " 'I',\n",
              " 'am',\n",
              " 'passionate',\n",
              " 'about',\n",
              " 'learning',\n",
              " 'DS',\n",
              " '!',\n",
              " 'I',\n",
              " 'want',\n",
              " 'to',\n",
              " 'learn',\n",
              " 'more',\n",
              " 'ont',\n",
              " 'his',\n",
              " \"domain's\"]"
            ]
          },
          "metadata": {},
          "execution_count": 17
        }
      ]
    },
    {
      "cell_type": "code",
      "source": [],
      "metadata": {
        "id": "15XFKFdJiLpT"
      },
      "execution_count": 17,
      "outputs": []
    }
  ],
  "metadata": {
    "colab": {
      "provenance": [],
      "gpuType": "T4"
    },
    "kernelspec": {
      "display_name": "Python 3",
      "name": "python3"
    },
    "language_info": {
      "name": "python"
    },
    "accelerator": "GPU"
  },
  "nbformat": 4,
  "nbformat_minor": 0
}